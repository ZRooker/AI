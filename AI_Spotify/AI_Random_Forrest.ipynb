{
 "cells": [
  {
   "cell_type": "code",
   "execution_count": 1,
   "id": "38f7e747",
   "metadata": {},
   "outputs": [
    {
     "name": "stdout",
     "output_type": "stream",
     "text": [
      "Requirement already satisfied: spotipy in c:\\users\\zarek\\anaconda3\\lib\\site-packages (2.22.1)\n",
      "Requirement already satisfied: six>=1.15.0 in c:\\users\\zarek\\anaconda3\\lib\\site-packages (from spotipy) (1.16.0)\n",
      "Requirement already satisfied: redis>=3.5.3 in c:\\users\\zarek\\anaconda3\\lib\\site-packages (from spotipy) (4.5.3)\n",
      "Requirement already satisfied: urllib3>=1.26.0 in c:\\users\\zarek\\anaconda3\\lib\\site-packages (from spotipy) (1.26.9)\n",
      "Requirement already satisfied: requests>=2.25.0 in c:\\users\\zarek\\anaconda3\\lib\\site-packages (from spotipy) (2.27.1)\n",
      "Requirement already satisfied: async-timeout>=4.0.2 in c:\\users\\zarek\\anaconda3\\lib\\site-packages (from redis>=3.5.3->spotipy) (4.0.2)\n",
      "Requirement already satisfied: idna<4,>=2.5 in c:\\users\\zarek\\anaconda3\\lib\\site-packages (from requests>=2.25.0->spotipy) (3.3)\n",
      "Requirement already satisfied: certifi>=2017.4.17 in c:\\users\\zarek\\anaconda3\\lib\\site-packages (from requests>=2.25.0->spotipy) (2021.10.8)\n",
      "Requirement already satisfied: charset-normalizer~=2.0.0 in c:\\users\\zarek\\anaconda3\\lib\\site-packages (from requests>=2.25.0->spotipy) (2.0.4)\n"
     ]
    }
   ],
   "source": [
    "import os\n",
    "import json\n",
    "!pip install spotipy\n",
    "import spotipy\n",
    "from spotipy.oauth2 import SpotifyClientCredentials\n",
    "import spotipy.util as util\n",
    "import pandas as pd\n",
    "import numpy as np\n",
    "import seaborn as sns \n",
    "import matplotlib.pyplot as plt"
   ]
  },
  {
   "cell_type": "code",
   "execution_count": 2,
   "id": "66cf2120",
   "metadata": {},
   "outputs": [],
   "source": [
    "#The Goal: \n",
    "# A supervised learning algorithm, such as a decision tree or support vector machine, \n",
    "# could be used to classify the genre of music based on the data provided. \n",
    "# The algorithm would be trained on a dataset of labeled music genres and the associated data values, \n",
    "# and then it could be used to predict the genre of music given a new set of data values.\n",
    "\n",
    "cid ='d8762235995b4ddcbc0df90739df9a63' # Client ID; copy this from your app created on beta.developer.spotify.com\n",
    "secret = '887a4eccdbde4195bfc0f7f4c472fe70' # Client Secret; copy this from your app\n",
    "username = '12155311349' # Your Spotify username\n",
    "\n",
    "#for avaliable scopes see https://developer.spotify.com/web-api/using-scopes/\n",
    "scope = 'user-library-read playlist-modify-public playlist-read-private'\n",
    "\n",
    "redirect_uri='https://localhost:8080/callback/'\n",
    "\n",
    "client_credentials_manager = SpotifyClientCredentials(client_id=cid, client_secret=secret) \n",
    "\n",
    "sp = spotipy.Spotify(client_credentials_manager=client_credentials_manager)\n",
    "\n",
    "token = util.prompt_for_user_token(username,scope,client_id=cid,client_secret=secret,redirect_uri=\"https://localhost:8080/callback/\")\n",
    "\n",
    "if token:\n",
    "    sp = spotipy.Spotify(auth=token)\n",
    "else:\n",
    "    print(\"Can't get token for\", username)\n"
   ]
  },
  {
   "cell_type": "code",
   "execution_count": 3,
   "id": "7df08394",
   "metadata": {},
   "outputs": [],
   "source": [
    "#Creating function and having user give PlaylistID, and genre (0 = counrty, 1 = rock...)\n",
    "def input_playlist(playlistID, genre): \n",
    "\n",
    "    playlist = sp.user_playlist(username, playlistID);\n",
    "\n",
    "    tracks = playlist[\"tracks\"];\n",
    "    songs = tracks[\"items\"];\n",
    "    total_tracks = tracks[\"total\"]\n",
    "    \n",
    "#     # Iterate over all tracks in the playlist using offset to get beyond the first 100 tracks\n",
    "    for i in range(100, total_tracks, 100):\n",
    "        tracks = sp.user_playlist_tracks(username, playlistID, offset=i)\n",
    "        songs += tracks[\"items\"]\n",
    "        \n",
    "    #Putting Track ID, Track Name, Album, and artist name in matrix's\n",
    "\n",
    "    track_ids = [] \n",
    "    track_names = []\n",
    "    album = []\n",
    "    artist =[]\n",
    "\n",
    "    #Getting Track Data\n",
    "    for i in range(0, len(songs)):\n",
    "        if songs[i]['track']['id'] != None: # Removes the local tracks in your playlist if there is any\n",
    "            track_ids.append(songs[i]['track']['id'])\n",
    "            track_names.append(songs[i]['track']['name'])\n",
    "            album.append(songs[i]['track']['album']['name'])\n",
    "            artist.append(songs[i]['track']['artists'][0]['name'])\n",
    "\n",
    "    features = []\n",
    "    for i in range(0,len(songs)):\n",
    "        audio_features = sp.audio_features(track_ids[i])\n",
    "        for track in audio_features:\n",
    "\n",
    "          if track is None:\n",
    "            print(track)\n",
    "            features.append({'danceability': 0, 'energy': 0, 'key': 0, 'loudness': 0, 'mode': 0, 'speechiness': 0, 'acousticness': 0, 'instrumentalness': 0, 'liveness': 0, 'valence': 0, 'tempo': 0, 'type': 'audio_features', 'id': '00000', 'uri': 'spotify:track:0', 'track_href': 'https://api.spotify.com/', 'analysis_url': 'https://api.spotify.com/', 'duration_ms': 0, 'time_signature': 0})\n",
    "          else:\n",
    "            features.append(track)\n",
    "\n",
    "    #Creating our DataFrames\n",
    "    df = pd.DataFrame(features, index = track_names) \n",
    "\n",
    "    #Adding a new column\n",
    "    df['genre'] = genre #Country\n",
    "    df['Song Title'] = track_names\n",
    "    df['Artist'] = artist\n",
    "\n",
    "    # Scale between 0 and 1\n",
    "    df[\"key\"] = (df[\"key\"] / df[\"key\"].max())\n",
    "    df[\"tempo\"] = (df[\"tempo\"] / df[\"tempo\"].max())\n",
    "    df[\"loudness\"] = (df[\"loudness\"] / df[\"loudness\"].min())\n",
    "    \n",
    "#     #calculate the IQR for instrumentalness and acousticness\n",
    "    Q1 = df[\"instrumentalness\"].quantile(0.25)\n",
    "    Q3 = df[\"instrumentalness\"].quantile(0.75)\n",
    "    IQR = Q3 - Q1\n",
    "    \n",
    "    Q12 = df[\"acousticness\"].quantile(0.25)\n",
    "    Q32 = df[\"acousticness\"].quantile(0.75)\n",
    "    IQR2 = Q32 - Q12\n",
    "    \n",
    "#     #Remove rows with outliers\n",
    "    df = df[~((df[\"instrumentalness\"] < (df[\"instrumentalness\"].quantile(0.25) - 1.5 * IQR)) | (df[\"instrumentalness\"] > (df[\"instrumentalness\"].quantile(0.75) + 1.5 * IQR)))]\n",
    "    df = df[~((df[\"acousticness\"] < (df[\"acousticness\"].quantile(0.25) - 1.5 * IQR2)) | (df[\"acousticness\"] > (df[\"acousticness\"].quantile(0.75) + 1.5 * IQR2)))]\n",
    "    \n",
    "#     Q1 = df.quantile(0.25)\n",
    "#     Q3 = df.quantile(0.75)\n",
    "#     IQR = Q3 - Q1\n",
    "#     df = df[~((df.sub(Q1, axis=1).div(IQR, axis=1)).lt(-1.5) | (df.sub(Q1, axis=1).div(IQR, axis=1)).gt(1.5)).any(axis=1)]\n",
    "    return df"
   ]
  },
  {
   "cell_type": "code",
   "execution_count": 4,
   "id": "bed23675",
   "metadata": {},
   "outputs": [],
   "source": [
    "# #Bringing in our Test Playlists\n",
    "# rockPlaylistID ='https://open.spotify.com/playlist/37i9dQZF1DWXRqgorJj26U?si=b4fc7abf24d943b7' \n",
    "# countryPlaylistID = 'https://open.spotify.com/playlist/37i9dQZF1DWZBCPUIUs2iR?si=8aa077376b294156' \n",
    "# rapPlaylistID = 'https://open.spotify.com/playlist/4riovLwMCrY3q0Cd4e0Sqp?si=d21e717925fe49cb'\n",
    "# rnbPlaylistID ='https://open.spotify.com/playlist/37i9dQZF1DX04mASjTsvf0?si=b73971c2510f4200'\n",
    "# popPlaylistID = 'https://open.spotify.com/playlist/7iUGicmg9AkkFhkLiYqYpA?si=042aa88085c24876'\n",
    "# classicalPlaylistID = 'https://open.spotify.com/playlist/27Zm1P410dPfedsdoO9fqm?si=104c7b4c8cd747f0'\n",
    "\n",
    "# # country = input_playlist(countryPlaylistID, 0)\n",
    "# # rock = input_playlist(rockPlaylistID, 1)\n",
    "# # rap = input_playlist(rapPlaylistID, 2)\n",
    "# # rnb = input_playlist(rnbPlaylistID,3)\n",
    "# # pop = input_playlist(popPlaylistID,4)\n",
    "# # classical = input_playlist(classicalPlaylistID,5)\n",
    "\n",
    "\n",
    "# country = input_playlist(countryPlaylistID, 'country')\n",
    "# rock = input_playlist(rockPlaylistID, 'rock')\n",
    "# rap = input_playlist(rapPlaylistID, 'rap')\n",
    "# rnb = input_playlist(rnbPlaylistID,'rnb')\n",
    "# pop = input_playlist(popPlaylistID,'pop')\n",
    "# classical = input_playlist(classicalPlaylistID,'classical')\n"
   ]
  },
  {
   "cell_type": "code",
   "execution_count": null,
   "id": "0a328021",
   "metadata": {},
   "outputs": [],
   "source": []
  },
  {
   "cell_type": "code",
   "execution_count": 5,
   "id": "9ce6d994",
   "metadata": {},
   "outputs": [],
   "source": [
    "# #Putting all the data together\n",
    "# full_data = pd.concat([rock,country,rnb,pop,classical,rap[:1861]], ignore_index = True)\n",
    "\n",
    "# full_data_random = full_data.sample(frac=1)\n",
    "# # full_data_random\n",
    "\n",
    "# # #Just getting the numerical values, so no ID's, Artists, ect...\n",
    "# num_data_random = full_data_random[['danceability','energy','key','loudness','mode','speechiness','acousticness','instrumentalness','liveness','valence','tempo','genre',]]\n",
    "# num_data_random\n",
    "\n",
    "# #Sending our data to a csv to save computing power and time. All the data is always the same. \n",
    "# full_data.to_csv('full_data.csv', index = False)\n",
    "# full_data_random.to_csv('full_data_random.csv', index=False)\n",
    "# num_data_random.to_csv('num_data_random.csv', index=False)"
   ]
  },
  {
   "cell_type": "code",
   "execution_count": 6,
   "id": "6451619a",
   "metadata": {},
   "outputs": [],
   "source": [
    "#Data has already been created and saved. Check how it is done in AI_Random_Forest to see where the data comes from. It's necessary to save time. \n",
    "full_data = pd.read_csv('full_data.csv')\n",
    "full_data_random = pd.read_csv('full_data_random.csv')\n",
    "num_data_random = pd.read_csv('num_data_random.csv')"
   ]
  },
  {
   "cell_type": "code",
   "execution_count": 7,
   "id": "b1783c5e",
   "metadata": {},
   "outputs": [],
   "source": [
    "#Modeling\n",
    "from sklearn.ensemble import RandomForestClassifier\n",
    "from sklearn.metrics import accuracy_score, confusion_matrix, precision_score, recall_score, ConfusionMatrixDisplay\n",
    "from sklearn.model_selection import RandomizedSearchCV, train_test_split\n",
    "from scipy.stats import randint\n",
    "from sklearn.preprocessing import StandardScaler\n",
    "from sklearn import tree\n",
    "\n"
   ]
  },
  {
   "cell_type": "code",
   "execution_count": 8,
   "id": "6b34196c",
   "metadata": {},
   "outputs": [],
   "source": [
    "# Split the data into features (X) and target (y)\n",
    "X = num_data_random.drop('genre', axis=1)\n",
    "y = num_data_random['genre']\n",
    "\n",
    "# Split the data into training and test sets\n",
    "X_train, X_test, y_train, y_test = train_test_split(X, y, test_size=0.2)\n",
    "\n",
    "# Scale the features using StandardScaler\n",
    "# scaler = StandardScaler()\n",
    "# X_train = scaler.fit_transform(X_train)\n",
    "# X_test = scaler.transform(X_test)"
   ]
  },
  {
   "cell_type": "code",
   "execution_count": 9,
   "id": "8e710da1",
   "metadata": {
    "scrolled": true
   },
   "outputs": [
    {
     "data": {
      "text/plain": [
       "RandomForestClassifier(max_depth=150, n_estimators=400)"
      ]
     },
     "execution_count": 9,
     "metadata": {},
     "output_type": "execute_result"
    }
   ],
   "source": [
    "#Fitting and Evaluating the Model \n",
    "rf = RandomForestClassifier(n_estimators = 400, max_depth = 150)\n",
    "rf.fit(X_train, y_train)"
   ]
  },
  {
   "cell_type": "code",
   "execution_count": 10,
   "id": "58540ef4",
   "metadata": {
    "scrolled": true
   },
   "outputs": [],
   "source": [
    "# # plot the first decision tree in the random forest\n",
    "# fig, axes = plt.subplots(nrows = 1,ncols = 1,figsize = (4,4), dpi=800)\n",
    "# tree.plot_tree(rf.estimators_[0],\n",
    "#                feature_names = X_train.columns,\n",
    "#                class_names=y_train.unique(),\n",
    "#                filled = True,\n",
    "#               max_depth =1);\n",
    "\n",
    "# # show the plot\n",
    "# plt.show()"
   ]
  },
  {
   "cell_type": "code",
   "execution_count": 11,
   "id": "e60c389c",
   "metadata": {},
   "outputs": [],
   "source": [
    "y_pred = rf.predict(X_test)"
   ]
  },
  {
   "cell_type": "code",
   "execution_count": 12,
   "id": "ad79d32c",
   "metadata": {},
   "outputs": [
    {
     "name": "stdout",
     "output_type": "stream",
     "text": [
      "Accuracy: 0.7096774193548387\n"
     ]
    }
   ],
   "source": [
    "accuracy = accuracy_score(y_test, y_pred)\n",
    "print(\"Accuracy:\", accuracy)"
   ]
  },
  {
   "cell_type": "code",
   "execution_count": 13,
   "id": "ae65438e",
   "metadata": {},
   "outputs": [],
   "source": [
    "import pickle\n",
    "with open('random_forest_model.pkl', 'wb') as f:\n",
    "    pickle.dump(rf, f)"
   ]
  },
  {
   "cell_type": "code",
   "execution_count": 14,
   "id": "76f13659",
   "metadata": {},
   "outputs": [
    {
     "data": {
      "text/plain": [
       "RandomizedSearchCV(cv=5, estimator=RandomForestClassifier(), n_iter=5,\n",
       "                   param_distributions={'max_depth': <scipy.stats._distn_infrastructure.rv_frozen object at 0x00000159C0F0FDF0>,\n",
       "                                        'n_estimators': <scipy.stats._distn_infrastructure.rv_frozen object at 0x00000159C0EF6E50>})"
      ]
     },
     "execution_count": 14,
     "metadata": {},
     "output_type": "execute_result"
    }
   ],
   "source": [
    "param_dist = {'n_estimators': randint(25,500),\n",
    "              'max_depth': randint(1,230)}\n",
    "\n",
    "# Create a random forest classifier\n",
    "rf = RandomForestClassifier()\n",
    "\n",
    "# Use random search to find the best hyperparameters\n",
    "rand_search = RandomizedSearchCV(rf, \n",
    "                                 param_distributions = param_dist, \n",
    "                                 n_iter=5, \n",
    "                                 cv=5)\n",
    "\n",
    "# Fit the random search object to the data\n",
    "rand_search.fit(X_train, y_train)"
   ]
  },
  {
   "cell_type": "code",
   "execution_count": 15,
   "id": "e056ff1c",
   "metadata": {},
   "outputs": [
    {
     "name": "stdout",
     "output_type": "stream",
     "text": [
      "Best hyperparameters: {'max_depth': 130, 'n_estimators': 183}\n"
     ]
    }
   ],
   "source": [
    "# Create a variable for the best model\n",
    "best_rf = rand_search.best_estimator_\n",
    "\n",
    "# Print the best hyperparameters\n",
    "print('Best hyperparameters:',  rand_search.best_params_)"
   ]
  },
  {
   "cell_type": "code",
   "execution_count": 16,
   "id": "eb7c94ec",
   "metadata": {},
   "outputs": [
    {
     "data": {
      "image/png": "[encoded data removed]",
      "text/plain": [
       "<Figure size 432x288 with 2 Axes>"
      ]
     },
     "metadata": {
      "needs_background": "light"
     },
     "output_type": "display_data"
    }
   ],
   "source": [
    "# Generate predictions with the best model\n",
    "y_pred = best_rf.predict(X_test)\n",
    "\n",
    "# Create the confusion matrix\n",
    "cm = confusion_matrix(y_test, y_pred)\n",
    "\n",
    "ConfusionMatrixDisplay(confusion_matrix=cm).plot();"
   ]
  },
  {
   "cell_type": "code",
   "execution_count": 17,
   "id": "f405dd32",
   "metadata": {},
   "outputs": [
    {
     "name": "stdout",
     "output_type": "stream",
     "text": [
      "Accuracy: 0.706989247311828\n"
     ]
    }
   ],
   "source": [
    "accuracy = accuracy_score(y_test, y_pred)\n",
    "# precision = precision_score(y_test, y_pred)\n",
    "# recall = recall_score(y_test, y_pred)\n",
    "\n",
    "print(\"Accuracy:\", accuracy)\n",
    "# print(\"Precision:\", precision)\n",
    "# print(\"Recall:\", recall)"
   ]
  },
  {
   "cell_type": "code",
   "execution_count": 18,
   "id": "678c4261",
   "metadata": {},
   "outputs": [
    {
     "data": {
      "image/png": "[encoded data removed]",
      "text/plain": [
       "<Figure size 432x288 with 1 Axes>"
      ]
     },
     "metadata": {
      "needs_background": "light"
     },
     "output_type": "display_data"
    }
   ],
   "source": [
    "# Create a series containing feature importances from the model and feature names from the training data\n",
    "feature_importances = pd.Series(best_rf.feature_importances_, index=X_train.columns).sort_values(ascending=False)\n",
    "\n",
    "# Plot a simple bar chart\n",
    "feature_importances.plot.bar();"
   ]
  },
  {
   "cell_type": "code",
   "execution_count": null,
   "id": "80ffc2e5",
   "metadata": {},
   "outputs": [],
   "source": []
  },
  {
   "cell_type": "code",
   "execution_count": 19,
   "id": "ad1b7c56",
   "metadata": {},
   "outputs": [
    {
     "data": {
      "text/plain": [
       "array(['pop', 'pop', 'pop', 'pop', 'pop', 'rnb', 'rap', 'rap', 'rap',\n",
       "       'country', 'rap', 'country', 'country', 'pop', 'rnb', 'pop',\n",
       "       'rock', 'rock', 'classical', 'country', 'rnb', 'country',\n",
       "       'country', 'pop', 'rnb', 'rnb', 'pop', 'rnb', 'pop', 'rap',\n",
       "       'country', 'rnb', 'country', 'pop', 'classical', 'country', 'pop',\n",
       "       'rock', 'rock', 'classical', 'pop', 'pop', 'pop', 'rap', 'pop',\n",
       "       'country', 'rnb', 'pop', 'country', 'rock', 'rnb', 'country',\n",
       "       'rap', 'rap', 'rap', 'pop', 'rock', 'pop', 'pop', 'pop', 'country',\n",
       "       'country', 'pop', 'country', 'classical', 'pop', 'rap', 'rock',\n",
       "       'rap', 'rnb', 'classical', 'rap', 'rnb', 'rap', 'country',\n",
       "       'country', 'rock', 'rnb', 'country', 'rap', 'pop', 'rnb', 'pop',\n",
       "       'rnb', 'rap', 'rap', 'rap', 'country', 'pop', 'country', 'rock',\n",
       "       'rnb', 'rock', 'rock', 'rnb', 'country', 'pop', 'country', 'pop',\n",
       "       'rap', 'country', 'rap', 'rap', 'pop', 'country', 'rap', 'pop',\n",
       "       'rap', 'rock', 'country', 'rap', 'rock', 'pop', 'rap', 'pop',\n",
       "       'rnb', 'pop', 'rap', 'pop', 'rap', 'rock', 'rap', 'rnb', 'pop',\n",
       "       'rock', 'pop', 'rap', 'pop', 'country', 'rock', 'country',\n",
       "       'country', 'pop', 'rap', 'classical', 'country', 'rnb', 'pop',\n",
       "       'rap', 'rnb', 'country', 'rap', 'country', 'pop', 'rap', 'country',\n",
       "       'country', 'pop', 'pop', 'rnb', 'rock', 'rap', 'country', 'rap',\n",
       "       'country', 'rap', 'pop', 'country', 'country', 'country',\n",
       "       'country', 'country', 'rnb', 'rnb', 'pop', 'country', 'rnb', 'rap',\n",
       "       'rock', 'rnb', 'rock', 'pop', 'country', 'country', 'rnb', 'pop',\n",
       "       'rap', 'pop', 'rock', 'rap', 'rap', 'rnb', 'pop', 'pop', 'rnb',\n",
       "       'rap', 'rap', 'rap', 'pop', 'pop', 'rap', 'pop', 'rock', 'rap',\n",
       "       'rap', 'rap', 'country', 'rnb', 'rap', 'rnb', 'country', 'pop',\n",
       "       'rap', 'rock', 'rnb', 'rap', 'pop', 'pop', 'country', 'country',\n",
       "       'rap', 'rap', 'country', 'rap', 'country', 'rap', 'rap', 'rock',\n",
       "       'rock', 'pop', 'country', 'country', 'rock', 'rap', 'pop', 'rnb',\n",
       "       'rap', 'country', 'pop', 'rap', 'country', 'rock', 'pop',\n",
       "       'country', 'rap', 'rnb', 'rnb', 'rnb', 'rap', 'country', 'rock',\n",
       "       'pop', 'rock', 'classical', 'country', 'country', 'rock',\n",
       "       'country', 'rap', 'rock', 'country', 'country', 'country', 'rock',\n",
       "       'rock', 'pop', 'pop', 'rap', 'rnb', 'rock', 'rap', 'rnb', 'pop',\n",
       "       'rock', 'country', 'pop', 'country', 'rap', 'rap', 'rap', 'rnb',\n",
       "       'classical', 'country', 'country', 'pop', 'rnb', 'rap', 'country',\n",
       "       'country', 'rap', 'rnb', 'country', 'rock', 'pop', 'classical',\n",
       "       'pop', 'rnb', 'country', 'classical', 'rnb', 'country', 'rap',\n",
       "       'pop', 'country', 'country', 'pop', 'pop', 'classical', 'pop',\n",
       "       'rap', 'pop', 'rap', 'country', 'rnb', 'classical', 'rap', 'rnb',\n",
       "       'pop', 'country', 'rap', 'rnb', 'country', 'country', 'rock',\n",
       "       'country', 'rock', 'rap', 'rap', 'pop', 'rap', 'pop', 'rnb', 'pop',\n",
       "       'pop', 'pop', 'rap', 'rap', 'country', 'rap', 'rap', 'classical',\n",
       "       'rap', 'rap', 'rock', 'country', 'rnb', 'classical', 'rock',\n",
       "       'country', 'pop', 'pop', 'pop', 'rap', 'rap', 'rock', 'country',\n",
       "       'rock', 'classical', 'rock', 'rap', 'rap', 'country', 'rap', 'pop',\n",
       "       'pop', 'rnb', 'country', 'rock', 'pop', 'rap', 'country', 'rnb',\n",
       "       'country', 'rap', 'pop', 'rnb', 'pop', 'rock', 'rnb', 'pop', 'rap',\n",
       "       'pop'], dtype=object)"
      ]
     },
     "execution_count": 19,
     "metadata": {},
     "output_type": "execute_result"
    }
   ],
   "source": [
    "y_pred"
   ]
  },
  {
   "cell_type": "code",
   "execution_count": null,
   "id": "bc68c222",
   "metadata": {},
   "outputs": [],
   "source": []
  },
  {
   "cell_type": "code",
   "execution_count": 20,
   "id": "789fbdd4",
   "metadata": {},
   "outputs": [
    {
     "data": {
      "text/html": [
       "<div>\n",
       "<style scoped>\n",
       "    .dataframe tbody tr th:only-of-type {\n",
       "        vertical-align: middle;\n",
       "    }\n",
       "\n",
       "    .dataframe tbody tr th {\n",
       "        vertical-align: top;\n",
       "    }\n",
       "\n",
       "    .dataframe thead th {\n",
       "        text-align: right;\n",
       "    }\n",
       "</style>\n",
       "<table border=\"1\" class=\"dataframe\">\n",
       "  <thead>\n",
       "    <tr style=\"text-align: right;\">\n",
       "      <th></th>\n",
       "      <th>Artist</th>\n",
       "      <th>Song Title</th>\n",
       "      <th>genre</th>\n",
       "    </tr>\n",
       "  </thead>\n",
       "  <tbody>\n",
       "    <tr>\n",
       "      <th>2</th>\n",
       "      <td>Billy Idol</td>\n",
       "      <td>White Wedding - Pt. 1</td>\n",
       "      <td>rock</td>\n",
       "    </tr>\n",
       "    <tr>\n",
       "      <th>1377</th>\n",
       "      <td>Wolfgang Amadeus Mozart</td>\n",
       "      <td>Piano Sonata No.16 in C, K.545 \"Sonata facile\"...</td>\n",
       "      <td>classical</td>\n",
       "    </tr>\n",
       "    <tr>\n",
       "      <th>959</th>\n",
       "      <td>Snoop Dogg</td>\n",
       "      <td>Young, Wild &amp; Free (feat. Bruno Mars)</td>\n",
       "      <td>pop</td>\n",
       "    </tr>\n",
       "    <tr>\n",
       "      <th>783</th>\n",
       "      <td>Khamari</td>\n",
       "      <td>On My Way</td>\n",
       "      <td>rnb</td>\n",
       "    </tr>\n",
       "    <tr>\n",
       "      <th>418</th>\n",
       "      <td>Luke Bryan</td>\n",
       "      <td>Country Girl (Shake It For Me)</td>\n",
       "      <td>country</td>\n",
       "    </tr>\n",
       "    <tr>\n",
       "      <th>...</th>\n",
       "      <td>...</td>\n",
       "      <td>...</td>\n",
       "      <td>...</td>\n",
       "    </tr>\n",
       "    <tr>\n",
       "      <th>1701</th>\n",
       "      <td>Kanye West</td>\n",
       "      <td>POWER</td>\n",
       "      <td>rap</td>\n",
       "    </tr>\n",
       "    <tr>\n",
       "      <th>1568</th>\n",
       "      <td>Pharoahe Monch</td>\n",
       "      <td>Simon Says</td>\n",
       "      <td>rap</td>\n",
       "    </tr>\n",
       "    <tr>\n",
       "      <th>975</th>\n",
       "      <td>Rita Ora</td>\n",
       "      <td>Anywhere</td>\n",
       "      <td>pop</td>\n",
       "    </tr>\n",
       "    <tr>\n",
       "      <th>1830</th>\n",
       "      <td>DJ Drama</td>\n",
       "      <td>Free Game</td>\n",
       "      <td>rap</td>\n",
       "    </tr>\n",
       "    <tr>\n",
       "      <th>1824</th>\n",
       "      <td>Metro Boomin</td>\n",
       "      <td>Trance (with Travis Scott &amp; Young Thug)</td>\n",
       "      <td>rap</td>\n",
       "    </tr>\n",
       "  </tbody>\n",
       "</table>\n",
       "<p>372 rows × 3 columns</p>\n",
       "</div>"
      ],
      "text/plain": [
       "                       Artist  \\\n",
       "2                  Billy Idol   \n",
       "1377  Wolfgang Amadeus Mozart   \n",
       "959                Snoop Dogg   \n",
       "783                   Khamari   \n",
       "418                Luke Bryan   \n",
       "...                       ...   \n",
       "1701               Kanye West   \n",
       "1568           Pharoahe Monch   \n",
       "975                  Rita Ora   \n",
       "1830                 DJ Drama   \n",
       "1824             Metro Boomin   \n",
       "\n",
       "                                             Song Title      genre  \n",
       "2                                 White Wedding - Pt. 1       rock  \n",
       "1377  Piano Sonata No.16 in C, K.545 \"Sonata facile\"...  classical  \n",
       "959               Young, Wild & Free (feat. Bruno Mars)        pop  \n",
       "783                                           On My Way        rnb  \n",
       "418                      Country Girl (Shake It For Me)    country  \n",
       "...                                                 ...        ...  \n",
       "1701                                              POWER        rap  \n",
       "1568                                         Simon Says        rap  \n",
       "975                                            Anywhere        pop  \n",
       "1830                                          Free Game        rap  \n",
       "1824            Trance (with Travis Scott & Young Thug)        rap  \n",
       "\n",
       "[372 rows x 3 columns]"
      ]
     },
     "execution_count": 20,
     "metadata": {},
     "output_type": "execute_result"
    }
   ],
   "source": [
    "#Printing out our y_test\n",
    "predicted = []\n",
    "for i in range(0, len(y_test)):\n",
    "    f=full_data.loc[y_test.index.values[i],:] \n",
    "    predicted.append(f)\n",
    "\n",
    "predicted = pd.DataFrame(predicted) \n",
    "predicted[['Artist','Song Title','genre',]]"
   ]
  },
  {
   "cell_type": "code",
   "execution_count": 21,
   "id": "4bc12f58",
   "metadata": {},
   "outputs": [
    {
     "name": "stdout",
     "output_type": "stream",
     "text": [
      "Total Songs:  372\n",
      "Country:  68\n",
      "Rock:  61\n",
      "Rap:  71\n",
      "RnB:  42\n",
      "Pop:  116\n",
      "Classical:  14\n"
     ]
    }
   ],
   "source": [
    "# predicted.to_csv('AI_Results.csv', index=False)\n",
    "print('Total Songs: ', predicted.index.size)\n",
    "print('Country: ',  predicted[predicted['genre'] == 'country'].index.size)\n",
    "print('Rock: ',  predicted[predicted['genre'] == 'rock'].index.size)\n",
    "print('Rap: ',  predicted[predicted['genre'] == 'rap'].index.size)\n",
    "print('RnB: ',  predicted[predicted['genre'] == 'rnb'].index.size)\n",
    "print('Pop: ',  predicted[predicted['genre'] == 'pop'].index.size)\n",
    "print('Classical: ',  predicted[predicted['genre'] == 'classical'].index.size)\n"
   ]
  },
  {
   "cell_type": "code",
   "execution_count": 22,
   "id": "0aa7b1c0",
   "metadata": {},
   "outputs": [
    {
     "data": {
      "text/html": [
       "<div>\n",
       "<style scoped>\n",
       "    .dataframe tbody tr th:only-of-type {\n",
       "        vertical-align: middle;\n",
       "    }\n",
       "\n",
       "    .dataframe tbody tr th {\n",
       "        vertical-align: top;\n",
       "    }\n",
       "\n",
       "    .dataframe thead th {\n",
       "        text-align: right;\n",
       "    }\n",
       "</style>\n",
       "<table border=\"1\" class=\"dataframe\">\n",
       "  <thead>\n",
       "    <tr style=\"text-align: right;\">\n",
       "      <th></th>\n",
       "      <th>Artist</th>\n",
       "      <th>Song Title</th>\n",
       "      <th>genre</th>\n",
       "    </tr>\n",
       "  </thead>\n",
       "  <tbody>\n",
       "    <tr>\n",
       "      <th>418</th>\n",
       "      <td>Luke Bryan</td>\n",
       "      <td>Country Girl (Shake It For Me)</td>\n",
       "      <td>country</td>\n",
       "    </tr>\n",
       "    <tr>\n",
       "      <th>558</th>\n",
       "      <td>Zac Brown Band</td>\n",
       "      <td>Chicken Fried</td>\n",
       "      <td>country</td>\n",
       "    </tr>\n",
       "    <tr>\n",
       "      <th>405</th>\n",
       "      <td>Darius Rucker</td>\n",
       "      <td>Wagon Wheel</td>\n",
       "      <td>country</td>\n",
       "    </tr>\n",
       "    <tr>\n",
       "      <th>399</th>\n",
       "      <td>Jason Aldean</td>\n",
       "      <td>You Make It Easy</td>\n",
       "      <td>country</td>\n",
       "    </tr>\n",
       "    <tr>\n",
       "      <th>322</th>\n",
       "      <td>Shania Twain</td>\n",
       "      <td>Man! I Feel Like A Woman!</td>\n",
       "      <td>country</td>\n",
       "    </tr>\n",
       "    <tr>\n",
       "      <th>...</th>\n",
       "      <td>...</td>\n",
       "      <td>...</td>\n",
       "      <td>...</td>\n",
       "    </tr>\n",
       "    <tr>\n",
       "      <th>492</th>\n",
       "      <td>Devin Dawson</td>\n",
       "      <td>All On Me</td>\n",
       "      <td>country</td>\n",
       "    </tr>\n",
       "    <tr>\n",
       "      <th>420</th>\n",
       "      <td>Zac Brown Band</td>\n",
       "      <td>Knee Deep (feat. Jimmy Buffett)</td>\n",
       "      <td>country</td>\n",
       "    </tr>\n",
       "    <tr>\n",
       "      <th>538</th>\n",
       "      <td>Chris Young</td>\n",
       "      <td>Aw Naw</td>\n",
       "      <td>country</td>\n",
       "    </tr>\n",
       "    <tr>\n",
       "      <th>440</th>\n",
       "      <td>Luke Bryan</td>\n",
       "      <td>That's My Kind Of Night</td>\n",
       "      <td>country</td>\n",
       "    </tr>\n",
       "    <tr>\n",
       "      <th>483</th>\n",
       "      <td>Randy Houser</td>\n",
       "      <td>Runnin' Outta Moonlight</td>\n",
       "      <td>country</td>\n",
       "    </tr>\n",
       "  </tbody>\n",
       "</table>\n",
       "<p>68 rows × 3 columns</p>\n",
       "</div>"
      ],
      "text/plain": [
       "             Artist                       Song Title    genre\n",
       "418      Luke Bryan   Country Girl (Shake It For Me)  country\n",
       "558  Zac Brown Band                    Chicken Fried  country\n",
       "405   Darius Rucker                      Wagon Wheel  country\n",
       "399    Jason Aldean                 You Make It Easy  country\n",
       "322    Shania Twain        Man! I Feel Like A Woman!  country\n",
       "..              ...                              ...      ...\n",
       "492    Devin Dawson                        All On Me  country\n",
       "420  Zac Brown Band  Knee Deep (feat. Jimmy Buffett)  country\n",
       "538     Chris Young                           Aw Naw  country\n",
       "440      Luke Bryan          That's My Kind Of Night  country\n",
       "483    Randy Houser          Runnin' Outta Moonlight  country\n",
       "\n",
       "[68 rows x 3 columns]"
      ]
     },
     "execution_count": 22,
     "metadata": {},
     "output_type": "execute_result"
    }
   ],
   "source": [
    "#List the Country Songs Predicted\n",
    "country_pred = predicted[predicted['genre'] == 'country']\n",
    "country_pred[['Artist','Song Title','genre',]]"
   ]
  },
  {
   "cell_type": "code",
   "execution_count": 23,
   "id": "da6b688b",
   "metadata": {},
   "outputs": [],
   "source": [
    "# BOXPLOTS of other data\n",
    "def boxPlot(playlist, genre):\n",
    "    playlist_num = playlist.drop(columns = ['mode','type', 'id', 'uri', 'track_href', 'analysis_url', 'duration_ms',\n",
    "       'time_signature', 'genre', 'Song Title', 'Artist'])\n",
    "    fig, ax = plt.subplots(figsize=(14,7))\n",
    "    sns.boxplot(data = playlist_num)\n",
    "    plt.xlabel(genre, fontweight=\"bold\")\n",
    "    plt.ylabel('Value', fontweight=\"bold\")\n",
    "    return plt\n"
   ]
  },
  {
   "cell_type": "code",
   "execution_count": 24,
   "id": "6bc2cca5",
   "metadata": {},
   "outputs": [
    {
     "ename": "NameError",
     "evalue": "name 'country' is not defined",
     "output_type": "error",
     "traceback": [
      "\u001b[1;31m---------------------------------------------------------------------------\u001b[0m",
      "\u001b[1;31mNameError\u001b[0m                                 Traceback (most recent call last)",
      "Input \u001b[1;32mIn [24]\u001b[0m, in \u001b[0;36m<cell line: 1>\u001b[1;34m()\u001b[0m\n\u001b[1;32m----> 1\u001b[0m country_boxplot \u001b[38;5;241m=\u001b[39m boxPlot(\u001b[43mcountry\u001b[49m,\u001b[38;5;124m'\u001b[39m\u001b[38;5;124mCountry\u001b[39m\u001b[38;5;124m'\u001b[39m)\n\u001b[0;32m      2\u001b[0m rock_boxplot \u001b[38;5;241m=\u001b[39m boxPlot(rock,\u001b[38;5;124m'\u001b[39m\u001b[38;5;124mRock\u001b[39m\u001b[38;5;124m'\u001b[39m)\n\u001b[0;32m      3\u001b[0m rap_boxplot \u001b[38;5;241m=\u001b[39m boxPlot(rap,\u001b[38;5;124m'\u001b[39m\u001b[38;5;124mRap\u001b[39m\u001b[38;5;124m'\u001b[39m)\n",
      "\u001b[1;31mNameError\u001b[0m: name 'country' is not defined"
     ]
    }
   ],
   "source": [
    "country_boxplot = boxPlot(country,'Country')\n",
    "rock_boxplot = boxPlot(rock,'Rock')\n",
    "rap_boxplot = boxPlot(rap,'Rap')\n",
    "rnb_boxplot = boxPlot(rnb,'R&B')\n",
    "pop_boxplot = boxPlot(pop,'POP')\n",
    "classical_boxplot = boxPlot(classical,'Classical')"
   ]
  },
  {
   "cell_type": "code",
   "execution_count": null,
   "id": "b4838f9c",
   "metadata": {},
   "outputs": [],
   "source": []
  },
  {
   "cell_type": "code",
   "execution_count": null,
   "id": "614fd852",
   "metadata": {},
   "outputs": [],
   "source": [
    "# Plot linear correlation matrix\n",
    "def linear_correlation(playlist,genre):\n",
    "    playlist_num = playlist.drop(columns = ['mode','type', 'id', 'uri', 'track_href', 'analysis_url', 'duration_ms',\n",
    "       'time_signature', 'genre', 'Song Title', 'Artist'])\n",
    "    fig, ax = plt.subplots(figsize=(14,7))\n",
    "    sns.heatmap(playlist_num.corr(), annot=True, cmap='YlGnBu', vmin=-1, vmax=1, center=0, ax=ax)\n",
    "    plt.title(genre +' Linear Correlation Matrix')\n",
    "    plt.show()"
   ]
  },
  {
   "cell_type": "code",
   "execution_count": null,
   "id": "47416c8b",
   "metadata": {
    "scrolled": true
   },
   "outputs": [],
   "source": [
    "linear_correlation(country,'Country')\n",
    "linear_correlation(rock,'Rock')\n",
    "linear_correlation(rap,'Rap')\n",
    "linear_correlation(rnb,'R&B')\n",
    "linear_correlation(pop,'POP')\n",
    "linear_correlation(classical,'Classical')"
   ]
  },
  {
   "cell_type": "code",
   "execution_count": null,
   "id": "b2314653",
   "metadata": {},
   "outputs": [],
   "source": [
    "import plotly.graph_objects as go\n",
    "import plotly.offline as pyo\n",
    "\n",
    "def radar_plot(playlist,genre,color):\n",
    "    playlist_num = playlist.drop(columns = ['mode','type', 'id', 'uri', 'track_href', 'analysis_url', 'duration_ms',\n",
    "           'time_signature', 'genre', 'Song Title', 'Artist'])\n",
    "\n",
    "    categories = playlist_num.columns\n",
    "    categories = [*categories, categories[0]]\n",
    "\n",
    "    mean_r = playlist_num.mean()\n",
    "\n",
    "    mean_r = [*mean_r, mean_r[0]]\n",
    "\n",
    "\n",
    "    fig = go.Figure(\n",
    "        data=[\n",
    "            go.Scatterpolar(r=mean_r, theta=categories, name= genre,fill='toself',fillcolor = color, ),],\n",
    "        layout=go.Layout(\n",
    "            title=go.layout.Title(text= genre+' Mean Values Radar Plot'),\n",
    "            polar={'radialaxis': {'visible': True}},\n",
    "            showlegend=True,\n",
    "        )\n",
    "    )\n",
    "\n",
    "    pyo.iplot(fig)"
   ]
  },
  {
   "cell_type": "code",
   "execution_count": null,
   "id": "60d8545f",
   "metadata": {
    "scrolled": true
   },
   "outputs": [],
   "source": [
    "radar_plot(country,'Country','orange')\n",
    "radar_plot(rock,'Rock','red')\n",
    "radar_plot(rap,'Rap','lightblue')\n",
    "radar_plot(rnb,'R&B','purple')\n",
    "radar_plot(pop,'POP','pink')\n",
    "radar_plot(classical,'Classical','green')"
   ]
  },
  {
   "cell_type": "code",
   "execution_count": null,
   "id": "d65a1a5a",
   "metadata": {},
   "outputs": [],
   "source": []
  },
  {
   "cell_type": "code",
   "execution_count": null,
   "id": "a4c85814",
   "metadata": {},
   "outputs": [],
   "source": []
  }
 ],
 "metadata": {
  "kernelspec": {
   "display_name": "Python 3 (ipykernel)",
   "language": "python",
   "name": "python3"
  },
  "language_info": {
   "codemirror_mode": {
    "name": "ipython",
    "version": 3
   },
   "file_extension": ".py",
   "mimetype": "text/x-python",
   "name": "python",
   "nbconvert_exporter": "python",
   "pygments_lexer": "ipython3",
   "version": "3.9.12"
  }
 },
 "nbformat": 4,
 "nbformat_minor": 5
}
