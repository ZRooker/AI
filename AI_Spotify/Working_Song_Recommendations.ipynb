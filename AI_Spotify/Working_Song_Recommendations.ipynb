{
 "cells": [
  {
   "cell_type": "markdown",
   "id": "b1309d3a",
   "metadata": {},
   "source": [
    "# Spotify Song Recommendation Algorithm"
   ]
  },
  {
   "cell_type": "code",
   "execution_count": 1,
   "id": "4e24335b",
   "metadata": {},
   "outputs": [],
   "source": [
    "import os\n",
    "import json\n",
    "#!pip install spotipy\n",
    "import spotipy\n",
    "from spotipy.oauth2 import SpotifyClientCredentials\n",
    "import spotipy.util as util\n",
    "import pandas as pd\n",
    "import numpy as np\n",
    "import seaborn as sns \n",
    "import matplotlib.pyplot as plt\n",
    "\n",
    "import pandas as pd\n",
    "from sklearn.preprocessing import StandardScaler\n",
    "from sklearn.neighbors import KNeighborsRegressor\n",
    "import spotipy\n",
    "from spotipy.oauth2 import SpotifyClientCredentials"
   ]
  },
  {
   "cell_type": "markdown",
   "id": "dc7f2df5",
   "metadata": {},
   "source": [
    "## Spotify ID"
   ]
  },
  {
   "cell_type": "code",
   "execution_count": 2,
   "id": "6a19fc7b",
   "metadata": {},
   "outputs": [],
   "source": [
    "cid ='d8762235995b4ddcbc0df90739df9a63' # Client ID; copy this from your app created on beta.developer.spotify.com\n",
    "secret = '887a4eccdbde4195bfc0f7f4c472fe70' # Client Secret; copy this from your app\n",
    "username = '12155311349' # Your Spotify username\n",
    "\n",
    "#for avaliable scopes see https://developer.spotify.com/web-api/using-scopes/\n",
    "scope = 'user-library-read playlist-modify-public playlist-read-private'\n",
    "redirect_uri='https://localhost:8080/callback/'\n",
    "client_credentials_manager = SpotifyClientCredentials(client_id=cid, client_secret=secret) \n",
    "sp = spotipy.Spotify(client_credentials_manager=client_credentials_manager)\n",
    "\n",
    "token = util.prompt_for_user_token(username,scope,client_id=cid,client_secret=secret,redirect_uri=\"https://localhost:8080/callback/\")\n",
    "if token:\n",
    "    sp = spotipy.Spotify(auth=token)\n",
    "else:\n",
    "    print(\"Can't get token for\", username)"
   ]
  },
  {
   "cell_type": "markdown",
   "id": "54747e9e",
   "metadata": {},
   "source": [
    "## Request Song From User"
   ]
  },
  {
   "cell_type": "code",
   "execution_count": null,
   "id": "6c635465",
   "metadata": {},
   "outputs": [],
   "source": [
    "song_name = input(\"Search a song for recommendations: \")"
   ]
  },
  {
   "cell_type": "markdown",
   "id": "e1b70f43",
   "metadata": {},
   "source": [
    "### Getting Relevant Data For Dataset"
   ]
  },
  {
   "cell_type": "code",
   "execution_count": null,
   "id": "3aa15ca9",
   "metadata": {},
   "outputs": [],
   "source": [
    "# Define the search query\n",
    "search_results = sp.search(q=song_name, type='track', limit=1)\n",
    "track_id = search_results['tracks']['items'][0]['id']\n",
    "\n",
    "# Get the audio features, year, and popularity of the song\n",
    "track_id = search_results['tracks']['items'][0]['id']\n",
    "audio_features = sp.audio_features([track_id])[0]\n",
    "year = search_results['tracks']['items'][0]['album']['release_date'][:4]\n",
    "popularity = search_results['tracks']['items'][0]['popularity']\n",
    "\n",
    "# Find similar songs based on audio features, year, and popularity\n",
    "similar_songs = sp.recommendations(seed_tracks=[track_id], target_popularity=popularity, limit=100, **audio_features)\n",
    "# similar_songs = sp.recommendations(seed_tracks=[track_id], limit=100, **audio_features)\n",
    "\n",
    "# Extract relevant info from recommendations and store in DataFrame\n",
    "columns = ['song name', 'artist', 'popularity', 'year', 'iD', 'danceability', 'energy','loudness', 'speechiness', 'acousticness', 'instrumentalness', 'liveness', 'valence', 'tempo']\n",
    "data = []\n",
    "for i, track in enumerate(similar_songs['tracks']):\n",
    "    name = track['name']\n",
    "    artist = track['artists'][0]['name']\n",
    "    popularity = track['popularity']\n",
    "    year = track['album']['release_date'][:4]\n",
    "    track_id = track['id']\n",
    "    audio_features = sp.audio_features([track_id])[0]\n",
    "    danceability = audio_features['danceability']\n",
    "    loudness = audio_features['loudness']\n",
    "    energy = audio_features['energy']\n",
    "    speechiness = audio_features['speechiness']\n",
    "    acousticness = audio_features['acousticness']\n",
    "    instrumentalness = audio_features['instrumentalness']\n",
    "    liveness = audio_features['liveness']\n",
    "    valence = audio_features['valence']\n",
    "    tempo = audio_features['tempo']\n",
    "    data.append([name, artist, popularity, year, track_id, danceability, loudness,energy, speechiness, acousticness, instrumentalness, liveness, valence, tempo])\n",
    "df = pd.DataFrame(data, columns=columns)\n",
    "\n",
    "# Scale between 0 and 1\n",
    "df[\"tempo\"] = (df[\"tempo\"] / df[\"tempo\"].max())\n",
    "df[\"loudness\"] = (df[\"loudness\"] / df[\"loudness\"].max())\n",
    "df[\"energy\"] = (df[\"energy\"] / df[\"energy\"].min())\n",
    "df[\"popularity\"] = (df[\"popularity\"] / 100)"
   ]
  },
  {
   "cell_type": "code",
   "execution_count": null,
   "id": "c64362aa",
   "metadata": {},
   "outputs": [],
   "source": [
    "df"
   ]
  },
  {
   "cell_type": "markdown",
   "id": "9236071a",
   "metadata": {},
   "source": [
    "## Using Nearest Neighbors For Best Recommendation"
   ]
  },
  {
   "cell_type": "code",
   "execution_count": null,
   "id": "6e8a77ba",
   "metadata": {},
   "outputs": [],
   "source": [
    "from sklearn.neighbors import NearestNeighbors\n",
    "\n",
    "# Define the features to use for the model\n",
    "features = ['danceability', 'energy', 'loudness', 'speechiness', 'acousticness', 'instrumentalness', 'liveness', 'valence', 'tempo']\n",
    "\n",
    "# Create a new dataframe with only the features to use for the model\n",
    "df_model = df[features]\n",
    "\n",
    "# Fit the k-nearest neighbors model using the new dataframe\n",
    "knn = NearestNeighbors(n_neighbors=5)\n",
    "knn.fit(df_model)\n",
    "\n",
    "# Find the k nearest neighbors for the user-requested song\n",
    "song_data = df[df['iD'] == track_id][features]\n",
    "distances, indices = knn.kneighbors(song_data)\n",
    "\n",
    "# Create a new dataframe with the nearest neighbors and their features\n",
    "neighbor_data = df.iloc[indices[0]]\n",
    "\n",
    "neighbor_data\n",
    "\n",
    "\n",
    "import seaborn as sns\n",
    "\n",
    "# Compute the correlation matrix\n",
    "corr_matrix = df.drop(['song name', 'artist', 'year', 'iD'], axis=1).corr()\n",
    "\n",
    "# Visualize the correlation matrix using a heatmap\n",
    "sns.heatmap(corr_matrix, annot=True, cmap='coolwarm')\n",
    "\n",
    "import seaborn as sns\n",
    "\n",
    "# Compute the correlation matrix\n",
    "corr_matrix = neighbor_data.drop(['song name', 'artist', 'year', 'iD'], axis=1).corr()\n",
    "\n",
    "# Visualize the correlation matrix using a heatmap\n",
    "sns.heatmap(corr_matrix, annot=True, cmap='coolwarm')"
   ]
  },
  {
   "cell_type": "markdown",
   "id": "6a9f1286",
   "metadata": {},
   "source": [
    "## Plotting the Final Solution"
   ]
  },
  {
   "cell_type": "code",
   "execution_count": null,
   "id": "7cd8b4fd",
   "metadata": {},
   "outputs": [],
   "source": [
    "import numpy as np\n",
    "import matplotlib.pyplot as plt\n",
    "\n",
    "# Get audio features of original song\n",
    "song_data = df.iloc[0][['popularity','danceability', 'energy', 'loudness', 'speechiness', 'acousticness', 'instrumentalness', 'liveness', 'valence', 'tempo']]\n",
    "song_features = np.array(song_data.tolist())\n",
    "\n",
    "# Get audio features of neighbors\n",
    "neighbor_data = neighbor_data.iloc[0:10][['popularity','danceability', 'energy', 'loudness', 'speechiness', 'acousticness', 'instrumentalness', 'liveness', 'valence', 'tempo']]\n",
    "neighbor_features = np.array(neighbor_data.values)\n",
    "\n",
    "# Define feature labels\n",
    "labels = ['Popularity','Danceability', 'Energy', 'Loudness', 'Speechiness', 'Acousticness', 'Instrumentalness', 'Liveness', 'Valence', 'Tempo']\n",
    "\n",
    "# Define angles and labels for radar chart\n",
    "angles = np.linspace(0, 2*np.pi, len(song_features)+1, endpoint=True)\n",
    "\n",
    "# Create figure and subplot for radar chart\n",
    "fig = plt.figure(figsize=(8, 8))\n",
    "ax = fig.add_subplot(111, polar=True)\n",
    "\n",
    "# Plot radar chart for song\n",
    "ax.plot(angles[:], np.append(song_features, song_features[0]), 'o-', linewidth=2, label='Original Song')\n",
    "ax.fill(angles, np.append(song_features, song_features[0]), alpha=0.25)\n",
    "\n",
    "# Plot radar chart for neighbors in red\n",
    "ax.plot(angles[:], np.append(neighbor_features.mean(axis=0), neighbor_features.mean(axis=0)[0]), 'o-', linewidth=2, color='red', label='Neighbor Songs')\n",
    "ax.fill(angles, np.append(neighbor_features.mean(axis=0), neighbor_features.mean(axis=0)[0]), alpha=0.25, color='red')\n",
    "\n",
    "# Set tick locations and labels\n",
    "ax.set_xticks(angles[:-1])\n",
    "ax.set_xticklabels(labels)\n",
    "\n",
    "# Set title and legend\n",
    "ax.set_title('Audio Features Comparison', fontsize=16, fontweight='bold')\n",
    "ax.legend(loc='upper right', bbox_to_anchor=(0.1, 0.1))\n",
    "plt.show()\n"
   ]
  }
 ],
 "metadata": {
  "kernelspec": {
   "display_name": "Python 3 (ipykernel)",
   "language": "python",
   "name": "python3"
  },
  "language_info": {
   "codemirror_mode": {
    "name": "ipython",
    "version": 3
   },
   "file_extension": ".py",
   "mimetype": "text/x-python",
   "name": "python",
   "nbconvert_exporter": "python",
   "pygments_lexer": "ipython3",
   "version": "3.10.9"
  }
 },
 "nbformat": 4,
 "nbformat_minor": 5
}
