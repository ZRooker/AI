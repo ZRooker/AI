{
 "cells": [
  {
   "cell_type": "code",
   "execution_count": 1,
   "id": "1e77b6d6",
   "metadata": {},
   "outputs": [],
   "source": [
    "import os\n",
    "import json\n",
    "#!pip install spotipy\n",
    "import spotipy\n",
    "from spotipy.oauth2 import SpotifyClientCredentials\n",
    "import spotipy.util as util\n",
    "import pandas as pd\n",
    "import numpy as np\n",
    "import seaborn as sns \n",
    "import matplotlib.pyplot as plt\n",
    "\n",
    "import pandas as pd\n",
    "from sklearn.preprocessing import StandardScaler\n",
    "from sklearn.neighbors import KNeighborsRegressor\n",
    "import spotipy\n",
    "from spotipy.oauth2 import SpotifyClientCredentials"
   ]
  },
  {
   "cell_type": "code",
   "execution_count": 2,
   "id": "1bdd24f6",
   "metadata": {},
   "outputs": [],
   "source": [
    "cid ='d8762235995b4ddcbc0df90739df9a63' # Client ID; copy this from your app created on beta.developer.spotify.com\n",
    "secret = '887a4eccdbde4195bfc0f7f4c472fe70' # Client Secret; copy this from your app\n",
    "username = '12155311349' # Your Spotify username\n",
    "\n",
    "#for avaliable scopes see https://developer.spotify.com/web-api/using-scopes/\n",
    "scope = 'user-library-read playlist-modify-public playlist-read-private'\n",
    "redirect_uri='https://localhost:8080/callback/'\n",
    "client_credentials_manager = SpotifyClientCredentials(client_id=cid, client_secret=secret) \n",
    "sp = spotipy.Spotify(client_credentials_manager=client_credentials_manager)\n",
    "\n",
    "token = util.prompt_for_user_token(username,scope,client_id=cid,client_secret=secret,redirect_uri=\"https://localhost:8080/callback/\")\n",
    "if token:\n",
    "    sp = spotipy.Spotify(auth=token)\n",
    "else:\n",
    "    print(\"Can't get token for\", username)"
   ]
  },
  {
   "cell_type": "code",
   "execution_count": 3,
   "id": "e66e76b2",
   "metadata": {},
   "outputs": [],
   "source": [
    "# song_name = input(\"Search a song for recommendations: \")"
   ]
  },
  {
   "cell_type": "markdown",
   "id": "9153a801",
   "metadata": {},
   "source": [
    "# User History Input\n"
   ]
  },
  {
   "cell_type": "code",
   "execution_count": 4,
   "id": "583650ed",
   "metadata": {},
   "outputs": [],
   "source": [
    "short_term_tracks = sp.current_user_top_tracks(time_range='short_term', limit=50)\n",
    "medium_term_tracks = sp.current_user_top_tracks(time_range='medium_term', limit=50)\n",
    "\n",
    "# Merge the results and remove duplicates\n",
    "all_tracks = short_term_tracks['items'] + medium_term_tracks['items']\n",
    "unique_tracks = {track['id']: track for track in all_tracks}.values()\n",
    "\n",
    "# Get the audio features for each track\n",
    "audio_features = {}\n",
    "for track in unique_tracks:\n",
    "    audio_features[track['id']] = sp.audio_features(track['id'])[0]\n",
    "\n",
    "# Create a dataframe with the track information\n",
    "columns = ['song name', 'artist', 'popularity', 'release date', 'iD', 'danceability', 'energy','loudness', 'speechiness', 'acousticness', 'instrumentalness', 'liveness', 'valence', 'tempo']\n",
    "data = []\n",
    "for i, track in enumerate(unique_tracks):\n",
    "    name = track['name']\n",
    "    artist = track['artists'][0]['name']\n",
    "    popularity = track['popularity']\n",
    "    year = track['album']['release_date'][:4]\n",
    "    track_id = track['id']\n",
    "    audio_features = sp.audio_features([track_id])[0]\n",
    "    if audio_features is None:\n",
    "        danceability = 0\n",
    "        loudness = 0\n",
    "        energy = 0\n",
    "        speechiness = 0\n",
    "        acousticness = 0\n",
    "        instrumentalness = 0\n",
    "        liveness = 0\n",
    "        valence = 0\n",
    "        tempo = 0\n",
    "    else:\n",
    "        danceability = audio_features['danceability']\n",
    "        loudness = audio_features['loudness']\n",
    "        energy = audio_features['energy']\n",
    "        speechiness = audio_features['speechiness']\n",
    "        acousticness = audio_features['acousticness']\n",
    "        instrumentalness = audio_features['instrumentalness']\n",
    "        liveness = audio_features['liveness']\n",
    "        valence = audio_features['valence']\n",
    "        tempo = audio_features['tempo']\n",
    "    data.append([name, artist, popularity, year, track_id, danceability, loudness,energy, speechiness, acousticness, instrumentalness, liveness, valence, tempo])\n",
    "df = pd.DataFrame(data, columns=columns)\n",
    "\n",
    "# Scale between 0 and 1\n",
    "df[\"tempo\"] = (df[\"tempo\"] / df[\"tempo\"].max())\n",
    "df[\"loudness\"] = (df[\"loudness\"] / df[\"loudness\"].max())\n",
    "df[\"energy\"] = (df[\"energy\"] / df[\"energy\"].min())\n",
    "df[\"popularity\"] = (df[\"popularity\"] / 100)"
   ]
  },
  {
   "cell_type": "code",
   "execution_count": 5,
   "id": "286831c5",
   "metadata": {},
   "outputs": [],
   "source": [
    "df"
   ]
  },
  {
   "cell_type": "markdown",
   "id": "ef2f877d",
   "metadata": {},
   "source": [
    "# Getting Recommendations "
   ]
  },
  {
   "cell_type": "code",
   "execution_count": null,
   "id": "c6258840",
   "metadata": {},
   "outputs": [],
   "source": []
  },
  {
   "cell_type": "code",
   "execution_count": 6,
   "id": "439ad6c6",
   "metadata": {},
   "outputs": [],
   "source": [
    "recom = []\n",
    "\n",
    "for index, row in df.iterrows():\n",
    "    # Find similar songs based on audio features, year, and popularity\n",
    "    similar_songs = sp.recommendations(seed_tracks=[row['iD']], target_popularity=popularity, limit=5, **audio_features)\n",
    "    recom.append(similar_songs)\n",
    "        \n",
    "# Extract relevant info from recommendations and store in DataFrame\n",
    "columns = ['name', 'artist', 'popularity', 'year', 'iD', 'danceability', 'energy','loudness', 'speechiness', 'acousticness', 'instrumentalness', 'liveness', 'valence', 'tempo']\n",
    "data = []\n",
    "for i, track_list in enumerate(recom):\n",
    "    for track in track_list['tracks']:\n",
    "        name = track['name']\n",
    "        artist = track['artists'][0]['name']\n",
    "        popularity = track['popularity']\n",
    "        year = track['album']['release_date'][:4]\n",
    "        track_id = track['id']\n",
    "        audio_features = sp.audio_features([track_id])[0]\n",
    "        if audio_features is None:\n",
    "            danceability = 0\n",
    "            loudness = 0\n",
    "            energy = 0\n",
    "            speechiness = 0\n",
    "            acousticness = 0\n",
    "            instrumentalness = 0\n",
    "            liveness = 0\n",
    "            valence = 0\n",
    "            tempo = 0\n",
    "        else:\n",
    "            danceability = audio_features['danceability']\n",
    "            loudness = audio_features['loudness']\n",
    "            energy = audio_features['energy']\n",
    "            speechiness = audio_features['speechiness']\n",
    "            acousticness = audio_features['acousticness']\n",
    "            instrumentalness = audio_features['instrumentalness']\n",
    "            liveness = audio_features['liveness']\n",
    "            valence = audio_features['valence']\n",
    "            tempo = audio_features['tempo']\n",
    "        data.append([name, artist, popularity, year, track_id, danceability, loudness,energy, speechiness, acousticness, instrumentalness, liveness, valence, tempo])\n",
    "df_recom = pd.DataFrame(data, columns=columns)\n",
    "\n",
    "# Scale between 0 and 1\n",
    "df_recom[\"tempo\"] = (df_recom[\"tempo\"] / df_recom[\"tempo\"].max())\n",
    "df_recom[\"loudness\"] = (df_recom[\"loudness\"] / df_recom[\"loudness\"].max())\n",
    "df_recom[\"energy\"] = (df_recom[\"energy\"] / df_recom[\"energy\"].min())\n",
    "df_recom[\"popularity\"] = (df_recom[\"popularity\"] / 100)\n",
    "\n",
    "df_recom\n"
   ]
  },
  {
   "cell_type": "code",
   "execution_count": 7,
   "id": "99e06c27",
   "metadata": {},
   "outputs": [],
   "source": [
    "df_recom = df_recom.drop_duplicates(subset=['name'])"
   ]
  },
  {
   "cell_type": "code",
   "execution_count": 8,
   "id": "835a3e88",
   "metadata": {},
   "outputs": [],
   "source": [
    "from sklearn.cluster import KMeans\n",
    "from sklearn.preprocessing import StandardScaler\n",
    "from sklearn.decomposition import PCA\n",
    "import matplotlib.pyplot as plt\n",
    "\n",
    "# Define the features to use for the model\n",
    "features = ['year','danceability', 'energy', 'loudness', 'speechiness', 'acousticness', 'instrumentalness', 'liveness', 'valence', 'tempo']\n",
    "\n",
    "# Create a new dataframe with only the features to use for the model\n",
    "df_model = df_recom[features]\n",
    "\n",
    "# Scale the features\n",
    "scaler = StandardScaler()\n",
    "df_model_scaled = scaler.fit_transform(df_model)\n",
    "\n",
    "# Fit the K-means model using the new dataframeabs\n",
    "kmeans = KMeans(n_clusters=4, random_state=42)\n",
    "kmeans.fit(df_model_scaled)\n",
    "\n",
    "# Get the cluster labels for each data point\n",
    "labels = kmeans.labels_\n",
    "df_recom['clusters'] = labels\n",
    "# Apply PCA to reduce the dimensionality of the data\n",
    "pca = PCA(n_components=2)\n",
    "pca_data = pca.fit_transform(df_model_scaled)\n",
    "\n",
    "# Plot the data points with different colors based on their cluster labels\n",
    "plt.scatter(pca_data[:, 0], pca_data[:, 1], c=labels, cmap='viridis')\n",
    "plt.xlabel('PC1')\n",
    "plt.ylabel('PC2')\n",
    "plt.title('K-Means Clustering Results')\n",
    "plt.legend()\n",
    "plt.show()"
   ]
  },
  {
   "cell_type": "code",
   "execution_count": 9,
   "id": "7168bdd0",
   "metadata": {},
   "outputs": [],
   "source": [
    "df_recom"
   ]
  },
  {
   "cell_type": "code",
   "execution_count": 10,
   "id": "c3487d94",
   "metadata": {},
   "outputs": [],
   "source": [
    "# filter the data to only include cluster 2 values\n",
    "cluster_0_data = df_recom[df_recom['clusters']==0]\n",
    "cluster_1_data = df_recom[df_recom['clusters']==1]\n",
    "cluster_2_data = df_recom[df_recom['clusters'] == 2]\n",
    "cluster_3_data = df_recom[df_recom['clusters']==3]"
   ]
  },
  {
   "cell_type": "code",
   "execution_count": 11,
   "id": "f2c96575",
   "metadata": {},
   "outputs": [],
   "source": [
    "cluster_0_data.head()"
   ]
  },
  {
   "cell_type": "code",
   "execution_count": 12,
   "id": "aa2eb0e0",
   "metadata": {},
   "outputs": [],
   "source": [
    "cluster_1_data.head()"
   ]
  },
  {
   "cell_type": "code",
   "execution_count": 13,
   "id": "748e7edd",
   "metadata": {},
   "outputs": [],
   "source": [
    "cluster_2_data.head()"
   ]
  },
  {
   "cell_type": "code",
   "execution_count": 14,
   "id": "034be79d",
   "metadata": {},
   "outputs": [],
   "source": [
    "cluster_3_data.head()"
   ]
  },
  {
   "cell_type": "code",
   "execution_count": 15,
   "id": "4aae410c",
   "metadata": {},
   "outputs": [],
   "source": [
    "user_id = username\n",
    "\n",
    "# Define a dictionary to hold the cluster playlists\n",
    "cluster_playlists = {}\n",
    "\n",
    "# Loop through the clusters and create a new playlist for each one\n",
    "for cluster_id in range(4):\n",
    "    playlist_name = f'Cluster {cluster_id}'\n",
    "    playlist = sp.user_playlist_create(user=user_id, name=playlist_name)\n",
    "    cluster_playlists[cluster_id] = playlist['id']\n",
    "\n",
    "# Loop through the songs in each cluster and add them to their corresponding playlist\n",
    "for cluster_id, cluster_data in enumerate([cluster_0_data, cluster_1_data, cluster_2_data, cluster_3_data]):\n",
    "    for _, song_data in cluster_data.iterrows():\n",
    "        song_id = song_data['iD']\n",
    "        track_info = sp.track(song_id)\n",
    "        track_uri = track_info['uri']\n",
    "        sp.user_playlist_add_tracks(user=user_id, playlist_id=cluster_playlists[cluster_id], tracks=[track_uri])\n"
   ]
  },
  {
   "cell_type": "code",
   "execution_count": 16,
   "id": "a8090d8e",
   "metadata": {},
   "outputs": [],
   "source": [
    "# Define a list to hold the playlist information\n",
    "playlist_info = []\n",
    "\n",
    "# Loop through the cluster playlists and add the playlist ID and name to the list\n",
    "for cluster_id in range(4):\n",
    "    playlist_id = cluster_playlists[cluster_id]\n",
    "    playlist_name = f'Cluster {cluster_id} Playlist'\n",
    "    playlist_info.append({'Name': playlist_name, 'id': playlist_id})\n",
    "\n",
    "# Create a DataFrame from the playlist information\n",
    "playlist_df = pd.DataFrame(playlist_info)\n",
    "\n",
    "# Display the playlist IDs and names\n",
    "print(playlist_df)"
   ]
  },
  {
   "cell_type": "code",
   "execution_count": null,
   "id": "46ec6612",
   "metadata": {},
   "outputs": [],
   "source": [
    "while True:\n",
    "        action = input(\"Do you want to keep all playlists, delete all playlists, or keep a specific playlist? (Enter 'all', 'none', or a cluster number): \")\n",
    "        if action == 'all':\n",
    "            print(\"All playlists will be kept.\")\n",
    "        elif action == 'none':\n",
    "            for playlist_id in playlist_df['id']:\n",
    "                sp.user_playlist_unfollow(user=user_id, playlist_id=playlist_id)\n",
    "            print(\"All playlists have been deleted.\")\n",
    "        elif action.isdigit() and 0 <= int(action) < 4:\n",
    "            cluster_id = int(action)\n",
    "            playlist_id = cluster_playlists[cluster_id]\n",
    "            print(f\"Playlist '{playlist_df.iloc[cluster_id]['Name']}' will be kept.\")\n",
    "            playlist_df = playlist_df.iloc[[cluster_id]]\n",
    "        else:\n",
    "            print(\"Invalid input. Please enter 'all', 'none', or a cluster number (0-3).\")"
   ]
  }
 ],
 "metadata": {
  "kernelspec": {
   "display_name": "Python 3 (ipykernel)",
   "language": "python",
   "name": "python3"
  },
  "language_info": {
   "codemirror_mode": {
    "name": "ipython",
    "version": 3
   },
   "file_extension": ".py",
   "mimetype": "text/x-python",
   "name": "python",
   "nbconvert_exporter": "python",
   "pygments_lexer": "ipython3",
   "version": "3.10.9"
  }
 },
 "nbformat": 4,
 "nbformat_minor": 5
}
